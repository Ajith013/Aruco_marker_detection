{
 "cells": [
  {
   "cell_type": "code",
   "execution_count": 2,
   "metadata": {},
   "outputs": [],
   "source": [
    "import cv2\n",
    "import numpy as np\n",
    "import argparse as ap\n",
    "import sys\n",
    "import os"
   ]
  },
  {
   "cell_type": "code",
   "execution_count": 3,
   "metadata": {},
   "outputs": [],
   "source": [
    "ARUCO_DICT = {\n",
    "    \"DICT_4X4_50\": cv2.aruco.DICT_4X4_50,\n",
    "    \"DICT_4X4_100\": cv2.aruco.DICT_4X4_100,\n",
    "    \"DICT_4X4_250\": cv2.aruco.DICT_4X4_250,\n",
    "    \"DICT_4X4_1000\": cv2.aruco.DICT_4X4_1000,\n",
    "    \"DICT_5X5_50\": cv2.aruco.DICT_5X5_50,\n",
    "    \"DICT_5X5_100\": cv2.aruco.DICT_5X5_100,\n",
    "    \"DICT_5X5_250\": cv2.aruco.DICT_5X5_250,\n",
    "    \"DICT_5X5_1000\": cv2.aruco.DICT_5X5_1000,\n",
    "    \"DICT_6X6_50\": cv2.aruco.DICT_6X6_50,\n",
    "    \"DICT_6X6_100\": cv2.aruco.DICT_6X6_100,\n",
    "    \"DICT_6X6_250\": cv2.aruco.DICT_6X6_250,\n",
    "    \"DICT_6X6_1000\": cv2.aruco.DICT_6X6_1000,\n",
    "    \"DICT_7X7_50\": cv2.aruco.DICT_7X7_50,\n",
    "    \"DICT_7X7_100\": cv2.aruco.DICT_7X7_100,\n",
    "    \"DICT_7X7_250\": cv2.aruco.DICT_7X7_250,\n",
    "    \"DICT_7X7_1000\": cv2.aruco.DICT_7X7_1000,\n",
    "    \"DICT_ARUCO_ORIGINAL\": cv2.aruco.DICT_ARUCO_ORIGINAL,\n",
    "    \"DICT_APRILTAG_16h5\": cv2.aruco.DICT_APRILTAG_16h5,\n",
    "    \"DICT_APRILTAG_25h9\": cv2.aruco.DICT_APRILTAG_25h9,\n",
    "    \"DICT_APRILTAG_36h10\": cv2.aruco.DICT_APRILTAG_36h10,\n",
    "    \"DICT_APRILTAG_36h11\": cv2.aruco.DICT_APRILTAG_36h11\n",
    "}"
   ]
  },
  {
   "cell_type": "code",
   "execution_count": 4,
   "metadata": {},
   "outputs": [
    {
     "data": {
      "text/plain": [
       "True"
      ]
     },
     "execution_count": 4,
     "metadata": {},
     "output_type": "execute_result"
    }
   ],
   "source": [
    "arucoDict = cv2.aruco.Dictionary_get(ARUCO_DICT[\"DICT_6X6_250\"])\n",
    "tag = np.zeros((300, 300, 1), dtype=\"uint8\")\n",
    "cv2.aruco.drawMarker(arucoDict, 50, 300, tag, 1)\n",
    "cv2.imwrite('output_marker.jpg',tag)"
   ]
  },
  {
   "cell_type": "code",
   "execution_count": 5,
   "metadata": {},
   "outputs": [
    {
     "data": {
      "image/jpeg": "[encoded data removed]",
      "text/plain": [
       "<IPython.core.display.Image object>"
      ]
     },
     "execution_count": 5,
     "metadata": {},
     "output_type": "execute_result"
    }
   ],
   "source": [
    "from IPython.display import Image\n",
    "Image(filename='output_marker.jpg') "
   ]
  },
  {
   "cell_type": "code",
   "execution_count": null,
   "metadata": {},
   "outputs": [],
   "source": []
  }
 ],
 "metadata": {
  "kernelspec": {
   "display_name": "Python 3",
   "language": "python",
   "name": "python3"
  },
  "language_info": {
   "codemirror_mode": {
    "name": "ipython",
    "version": 3
   },
   "file_extension": ".py",
   "mimetype": "text/x-python",
   "name": "python",
   "nbconvert_exporter": "python",
   "pygments_lexer": "ipython3",
   "version": "3.7.3"
  }
 },
 "nbformat": 4,
 "nbformat_minor": 2
}

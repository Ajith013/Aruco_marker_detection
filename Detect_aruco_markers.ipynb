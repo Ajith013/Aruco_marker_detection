{
 "cells": [
  {
   "cell_type": "code",
   "execution_count": 1,
   "metadata": {},
   "outputs": [],
   "source": [
    "import cv2\n",
    "import yaml\n",
    "import numpy as np\n",
    "import cv2.aruco as aruco\n",
    "import math\n",
    "import pandas as pd\n",
    "import matplotlib.pyplot as plt\n",
    "from matplotlib.animation import FuncAnimation\n",
    "import csv\n",
    "import os"
   ]
  },
  {
   "cell_type": "code",
   "execution_count": 3,
   "metadata": {},
   "outputs": [],
   "source": [
    "def track(matrix_coefficients, distortion_coefficients):\n",
    "    directory = os.path.dirname('data.csv')\n",
    "    if not os.path.exists(directory):\n",
    "        df = pd.DataFrame(list(), columns = ['x','y','z','alpha','beta','gamma'])\n",
    "        df.to_csv('data.csv')\n",
    "    while True:\n",
    "        ret, frame = cap.read()\n",
    "        # operations on the frame come here\n",
    "        gray = cv2.cvtColor(frame, cv2.COLOR_BGR2GRAY)  # Change grayscale\n",
    "        aruco_dict = aruco.Dictionary_get(aruco.DICT_6X6_250)  # Use 6*6 dictionary to find markers\n",
    "        parameters = aruco.DetectorParameters_create()  # Marker detection parameters\n",
    "# lists of ids and the corners beloning to each id\n",
    "        corners, ids, rejected_img_points = aruco.detectMarkers(gray, aruco_dict,\n",
    "                                                                parameters=parameters,\n",
    "                                                                cameraMatrix=matrix_coefficients,\n",
    "                                                                distCoeff=distortion_coefficients)\n",
    "        if np.all(ids is not None):  # If there are markers found by detector\n",
    "            for i in range(0, len(ids)):  # Iterate in markers\n",
    "                # Estimate pose of each marker and return the values rvec and tvec---different from camera coefficients\n",
    "                rvec, tvec, markerPoints = aruco.estimatePoseSingleMarkers(corners[i], 0.02, matrix_coefficients,\n",
    "                                                                           distortion_coefficients)\n",
    "                (rvec - tvec).any()  # get rid of that nasty numpy value array error\n",
    "                aruco.drawDetectedMarkers(frame, corners, ids)  # Draw A square around the markers\n",
    "                aruco.drawAxis(frame, matrix_coefficients, distortion_coefficients, rvec, tvec, 0.008)  # Draw Axis\n",
    "                # Display the resulting frame\n",
    "                cv2.putText(frame, \"Distance %.1f cm Roll angle %.0f deg\" % ((tvec[0][0][2] * 100 * 2.183), (rvec[0][0][1] / math.pi * 180)), (0, 50), cv2.FONT_HERSHEY_SIMPLEX, 1.0, (0, 0, 0), 2)\n",
    "                df = df.append({'x':(tvec[0][0][0] * 100 * 2.183), 'y': (tvec[0][0][1] * 100 * 2.183), 'z': (tvec[0][0][2] * 100 * 2.183), 'alpha':(rvec[0][0][0] / math.pi * 180), 'beta': (rvec[0][0][1] / math.pi * 180), 'gamma': (rvec[0][0][2] / math.pi * 180) },ignore_index = True)\n",
    "                #cv2.circle(image, (100, int(rr / 600)), 6, (200, 40, 230), -1)\n",
    "                df.to_csv('data.csv', mode = 'a', header = False)\n",
    "                R, _ = cv2.Rodrigues(rvec[0])\n",
    "                cameraPose = -R.T * tvec[0]\n",
    "        cv2.imshow('frame', frame)\n",
    "\n",
    "        # Wait 3 milisecoonds for an interaction. Check the key and do the corresponding job.\n",
    "        key = cv2.waitKey(3) & 0xFF\n",
    "        if key == ord('q'):  # Quit\n",
    "            break\n",
    "    #ani = FuncAnimation(plt.gcf(), animate(df), interval=1000)\n",
    "    #plt.tight_layout()\n",
    "    #plt.show()\n",
    "    # When everything done, release the capture\n",
    "    cap.release()\n",
    "    cv2.destroyAllWindows()"
   ]
  },
  {
   "cell_type": "markdown",
   "metadata": {},
   "source": [
    "df.to_csv('data.csv')"
   ]
  },
  {
   "cell_type": "code",
   "execution_count": 4,
   "metadata": {},
   "outputs": [
    {
     "name": "stdout",
     "output_type": "stream",
     "text": [
      "{'camera_matrix': [[950.808217327545, 0.0, 621.8344954287857], [0.0, 966.6304433056954, 241.00982314842685], [0.0, 0.0, 1.0]], 'dist_coeff': [[0.03672202315425214, 0.008740819011447546, -0.040285666478112256, 0.0003312300709975179, -1.7791292452444352]]}\n"
     ]
    }
   ],
   "source": [
    "with open(r'calibration_matrix.yaml') as file:\n",
    "    # The FullLoader parameter handles the conversion from YAML\n",
    "    # scalar values to Python the dictionary format\n",
    "    calibration_list = yaml.load(file, Loader=yaml.FullLoader)\n",
    "\n",
    "    print(calibration_list)"
   ]
  },
  {
   "cell_type": "code",
   "execution_count": 5,
   "metadata": {},
   "outputs": [],
   "source": [
    "cap = cv2.VideoCapture(0)  # Get the camera source"
   ]
  },
  {
   "cell_type": "code",
   "execution_count": 6,
   "metadata": {},
   "outputs": [],
   "source": [
    "mtx = np.asarray(calibration_list['camera_matrix'])\n",
    "distor = np.asarray(calibration_list['dist_coeff'])"
   ]
  },
  {
   "cell_type": "code",
   "execution_count": 7,
   "metadata": {},
   "outputs": [],
   "source": [
    "track(mtx, distor)"
   ]
  },
  {
   "cell_type": "code",
   "execution_count": null,
   "metadata": {},
   "outputs": [],
   "source": []
  }
 ],
 "metadata": {
  "kernelspec": {
   "display_name": "Python 3",
   "language": "python",
   "name": "python3"
  },
  "language_info": {
   "codemirror_mode": {
    "name": "ipython",
    "version": 3
   },
   "file_extension": ".py",
   "mimetype": "text/x-python",
   "name": "python",
   "nbconvert_exporter": "python",
   "pygments_lexer": "ipython3",
   "version": "3.7.3"
  }
 },
 "nbformat": 4,
 "nbformat_minor": 2
}

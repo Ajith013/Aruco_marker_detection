{
 "cells": [
  {
   "cell_type": "code",
   "execution_count": 1,
   "metadata": {},
   "outputs": [],
   "source": [
    "import yaml"
   ]
  },
  {
   "cell_type": "code",
   "execution_count": 4,
   "metadata": {},
   "outputs": [
    {
     "name": "stdout",
     "output_type": "stream",
     "text": [
      "{'camera_matrix': [[950.808217327545, 0.0, 621.8344954287857], [0.0, 966.6304433056954, 241.00982314842685], [0.0, 0.0, 1.0]], 'dist_coeff': [[0.03672202315425214, 0.008740819011447546, -0.040285666478112256, 0.0003312300709975179, -1.7791292452444352]]}\n"
     ]
    }
   ],
   "source": [
    "with open(r'calibration_matrix.yaml') as file:\n",
    "    # The FullLoader parameter handles the conversion from YAML\n",
    "    # scalar values to Python the dictionary format\n",
    "    calibration_list = yaml.load(file, Loader=yaml.FullLoader)\n",
    "\n",
    "    print(calibration_list)"
   ]
  },
  {
   "cell_type": "code",
   "execution_count": 9,
   "metadata": {},
   "outputs": [
    {
     "name": "stdout",
     "output_type": "stream",
     "text": [
      "{'camera_matrix': [[950.808217327545, 0.0, 621.8344954287857], [0.0, 966.6304433056954, 241.00982314842685], [0.0, 0.0, 1.0]], 'dist_coeff': [[0.03672202315425214, 0.008740819011447546, -0.040285666478112256, 0.0003312300709975179, -1.7791292452444352]]}\n"
     ]
    }
   ],
   "source": [
    "print(calibration_list)"
   ]
  },
  {
   "cell_type": "code",
   "execution_count": 10,
   "metadata": {},
   "outputs": [
    {
     "data": {
      "text/plain": [
       "[[950.808217327545, 0.0, 621.8344954287857],\n",
       " [0.0, 966.6304433056954, 241.00982314842685],\n",
       " [0.0, 0.0, 1.0]]"
      ]
     },
     "execution_count": 10,
     "metadata": {},
     "output_type": "execute_result"
    }
   ],
   "source": [
    "calibration_list['camera_matrix']"
   ]
  },
  {
   "cell_type": "code",
   "execution_count": 11,
   "metadata": {},
   "outputs": [
    {
     "data": {
      "text/plain": [
       "[[0.03672202315425214,\n",
       "  0.008740819011447546,\n",
       "  -0.040285666478112256,\n",
       "  0.0003312300709975179,\n",
       "  -1.7791292452444352]]"
      ]
     },
     "execution_count": 11,
     "metadata": {},
     "output_type": "execute_result"
    }
   ],
   "source": [
    "calibration_list['dist_coeff']"
   ]
  },
  {
   "cell_type": "code",
   "execution_count": null,
   "metadata": {},
   "outputs": [],
   "source": [
    "calibrationResultPath = \"res//\"\n",
    "\n",
    "fsContent = cv2.FileStorage(calibrationResultPath + \"calibrationValues0.yaml\", cv2.FILE_STORAGE_READ)\n",
    "\n",
    "mtxNode = fsContent.getNode('camera_matrix')\n",
    "distNode = fsContent.getNode('dist_coeff')\n",
    "\n",
    "mtx = np.asarray(mtxNode.mat())\n",
    "distor = np.asarray(distNode.mat())\n",
    "\n",
    "print(\"--------------------\")\n",
    "print(mtx)\n",
    "print(\"--------------------\")\n",
    "print(distor)\n",
    "print(\"--------------------\")"
   ]
  }
 ],
 "metadata": {
  "kernelspec": {
   "display_name": "Python 3",
   "language": "python",
   "name": "python3"
  },
  "language_info": {
   "codemirror_mode": {
    "name": "ipython",
    "version": 3
   },
   "file_extension": ".py",
   "mimetype": "text/x-python",
   "name": "python",
   "nbconvert_exporter": "python",
   "pygments_lexer": "ipython3",
   "version": "3.7.3"
  }
 },
 "nbformat": 4,
 "nbformat_minor": 2
}
